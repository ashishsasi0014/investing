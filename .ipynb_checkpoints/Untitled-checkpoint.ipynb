{
 "cells": [
  {
   "cell_type": "code",
   "execution_count": 29,
   "id": "b0868004",
   "metadata": {},
   "outputs": [],
   "source": [
    "import requests\n",
    "from bs4 import BeautifulSoup\n",
    "import time\n",
    "import pandas as pd\n",
    "from openpyxl import load_workbook\n",
    "from datetime import datetime\n",
    "from random import randint\n",
    "\n",
    "\n",
    "def write_excel(filename,sheetname,dataframe):\n",
    "    with pd.ExcelWriter(filename, engine=\"openpyxl\", mode=\"a\", if_sheet_exists=\"replace\") as writer:\n",
    "        dataframe.to_excel(writer, sheetname, index=False)\n",
    "\n",
    "\n",
    "def get_price(coin:str):\n",
    "    URL = f\"https://coinmarketcap.com/currencies/{coin}/markets/\"\n",
    "    page = requests.get(URL)\n",
    "    soup = BeautifulSoup(page.content, \"html.parser\")\n",
    "    results = soup.find(id=\"__next\")\n",
    "    job_elements = results.find_all(\"div\", class_=\"priceValue\")\n",
    "    dollars = job_elements[0].text\n",
    "    dollars = dollars.replace(\"$\",\"\").replace(\",\",\"\")\n",
    "    return(float(dollars))\n",
    "\n",
    "\n",
    "def update_main_table(excel_file: str):\n",
    "    loc = excel_file\n",
    "    input_data = pd.read_excel(loc,sheet_name = \"Input\")\n",
    "    coins = input_data.Coin.to_list()\n",
    "    values = []\n",
    "    current_profit_loss = []\n",
    "    perc = []\n",
    "    sum_of_shares = []\n",
    "    for coin in coins:\n",
    "        coin_transactions = pd.read_excel(loc,sheet_name = coin)\n",
    "        \n",
    "        value = (coin_transactions.iloc[:,1] * coin_transactions.iloc[:,2]).sum()\n",
    "        values.append(value)\n",
    "        \n",
    "        current_price = (coin_transactions.iloc[:,2]).sum() * get_price(coin)\n",
    "        current_profit_loss.append(current_price-value)\n",
    "        \n",
    "        percentage = ((current_price-value)/value)*100\n",
    "        perc.append(percentage)\n",
    "        \n",
    "        sum_of_shares.append((coin_transactions.iloc[:,2]).sum())\n",
    "#         print(coin)\n",
    "        \n",
    "    coin_table = pd.DataFrame({\"Coin\":coins,\"Shares_Bought\":sum_of_shares,\"Current_Inv\":values, \"Profit/Loss\":current_profit_loss, \"Percentage\": perc})\n",
    "    write_excel(loc,'Input',coin_table)\n",
    "    print(\"Table updated\")\n",
    "    \n",
    "    \n",
    "def make_transaction(coin: str, number_shares: float):\n",
    "    loc = \"investing.xlsx\"\n",
    "    wb = load_workbook(filename=loc)\n",
    "    ws = wb[coin]\n",
    "    newRowLocation = ws.max_row +1\n",
    "    ws.cell(column=1,row=newRowLocation, value=datetime.now())\n",
    "    ws.cell(column=2,row=newRowLocation, value=get_price(coin))\n",
    "    ws.cell(column=3,row=newRowLocation, value=number_shares)\n",
    "    wb.save(filename=loc)\n",
    "    wb.close()\n"
   ]
  },
  {
   "cell_type": "code",
   "execution_count": 30,
   "id": "c94249a5",
   "metadata": {},
   "outputs": [
    {
     "name": "stdout",
     "output_type": "stream",
     "text": [
      "Table updated\n"
     ]
    }
   ],
   "source": [
    "input_data = pd.read_excel(\"investing.xlsx\",sheet_name = \"Input\")\n",
    "coins = input_data.Coin.to_list()\n",
    "for coin in coins:\n",
    "    make_transaction(coin,randint(-1, 10))\n",
    "\n",
    "update_main_table(\"investing.xlsx\")"
   ]
  },
  {
   "cell_type": "code",
   "execution_count": 33,
   "id": "21f89b01",
   "metadata": {},
   "outputs": [
    {
     "name": "stdout",
     "output_type": "stream",
     "text": [
      "\n",
      "{'0': 'bitcoin', '1': 'ethereum', '2': 'shiba-inu', '3': 'polygon'}\n",
      "2\n",
      "\n",
      "Current price 2.094e-05\n",
      "\n",
      "Enter amount: 0\n",
      "  2022-05-01 23:14:11.296000  2.089e-05  7\n",
      "0    2022-05-01 23:14:22.032   0.000021 -1\n",
      "1    2022-05-01 23:15:24.297   0.000021  3\n",
      "2    2022-05-01 23:15:30.952   0.000021  2\n",
      "3    2022-05-01 23:40:41.496   0.000021  4\n",
      "4    2022-05-01 23:42:12.578   0.000021  0\n",
      "5    2022-05-01 23:42:48.125   0.000021  0\n"
     ]
    }
   ],
   "source": [
    "input_data = pd.read_excel(\"investing.xlsx\",sheet_name = \"Input\")\n",
    "coins = input_data.Coin.to_list()\n",
    "dictionary_coins = {str(k): v for k,v in enumerate(coins)}\n",
    "choice = input('\\n'+str(dictionary_coins)+'\\n')\n",
    "print(f\"\\nCurrent price {get_price(dictionary_coins[choice])}\")\n",
    "share = float(input(\"\\nEnter amount: \")) \n",
    "make_transaction(dictionary_coins[choice],share)\n",
    "\n",
    "data = pd.read_excel(\"investing.xlsx\",sheet_name = dictionary_coins[choice])\n",
    "print(data)\n",
    "\n"
   ]
  },
  {
   "cell_type": "code",
   "execution_count": 32,
   "id": "7db357bb",
   "metadata": {},
   "outputs": [
    {
     "name": "stdout",
     "output_type": "stream",
     "text": [
      "Table updated\n",
      "        Coin  Shares_Bought   Current_Inv   Profit/Loss    Percentage\n",
      "0    bitcoin             30  1.139807e+06  6.066000e+02  5.321955e-02\n",
      "1   ethereum             27  7.468019e+04  3.232000e+01  4.327788e-02\n",
      "2  shiba-inu              8  1.675200e-04 -2.710505e-20 -1.618019e-14\n",
      "3    polygon             11  1.186000e+01  1.300000e-01  1.096121e+00\n"
     ]
    }
   ],
   "source": [
    "update_main_table(\"investing.xlsx\")\n",
    "data = pd.read_excel(\"investing.xlsx\",sheet_name = \"Input\")\n",
    "print(data)"
   ]
  },
  {
   "cell_type": "code",
   "execution_count": null,
   "id": "212bad48",
   "metadata": {},
   "outputs": [],
   "source": []
  }
 ],
 "metadata": {
  "kernelspec": {
   "display_name": "Python 3 (ipykernel)",
   "language": "python",
   "name": "python3"
  },
  "language_info": {
   "codemirror_mode": {
    "name": "ipython",
    "version": 3
   },
   "file_extension": ".py",
   "mimetype": "text/x-python",
   "name": "python",
   "nbconvert_exporter": "python",
   "pygments_lexer": "ipython3",
   "version": "3.7.9"
  }
 },
 "nbformat": 4,
 "nbformat_minor": 5
}
