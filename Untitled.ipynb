{
 "cells": [
  {
   "cell_type": "code",
   "execution_count": 1,
   "id": "a4b7fbd6",
   "metadata": {},
   "outputs": [],
   "source": [
    "import requests\n",
    "from bs4 import BeautifulSoup\n",
    "import time\n",
    "import pandas as pd\n",
    "import openpyxl\n",
    "from openpyxl import load_workbook\n",
    "from datetime import datetime\n",
    "from random import randint"
   ]
  },
  {
   "cell_type": "code",
   "execution_count": 2,
   "id": "b0868004",
   "metadata": {},
   "outputs": [],
   "source": [
    "def delete(sheet):\n",
    "    # continuously delete row 2 untill there\n",
    "    # is only a single row left over \n",
    "    # that contains column names \n",
    "    while(sheet.max_row > 1):\n",
    "        # this method removes the row 2\n",
    "        sheet.delete_rows(2)\n",
    "    # return to main function\n",
    "    return\n",
    "\n",
    "\n",
    "def write_excel(filename,sheetname,dataframe):\n",
    "    with pd.ExcelWriter(filename, engine=\"openpyxl\", mode=\"a\", if_sheet_exists=\"replace\") as writer:\n",
    "        dataframe.to_excel(writer, sheetname, index=False)\n",
    "\n",
    "\n",
    "def get_price(coin:str):\n",
    "    URL = f\"https://coinmarketcap.com/currencies/{coin}/markets/\"\n",
    "    page = requests.get(URL)\n",
    "    soup = BeautifulSoup(page.content, \"html.parser\")\n",
    "    results = soup.find(id=\"__next\")\n",
    "    job_elements = results.find_all(\"div\", class_=\"priceValue\")\n",
    "    dollars = job_elements[0].text\n",
    "    dollars = dollars.replace(\"$\",\"\").replace(\",\",\"\")\n",
    "    return(float(dollars))\n",
    "\n",
    "\n",
    "def update_main_table(excel_file: str):\n",
    "    loc = excel_file\n",
    "    input_data = pd.read_excel(loc,sheet_name = \"Input\")\n",
    "    coins = input_data.Coin.to_list()\n",
    "    values = []\n",
    "    current_profit_loss = []\n",
    "    perc = []\n",
    "    sum_of_shares = []\n",
    "    for coin in coins:\n",
    "        coin_transactions = pd.read_excel(loc,sheet_name = coin)\n",
    "        \n",
    "        value = (coin_transactions.iloc[:,1] * coin_transactions.iloc[:,2]).sum()\n",
    "        values.append(value)\n",
    "        \n",
    "        current_price = (coin_transactions.iloc[:,2]).sum() * get_price(coin)\n",
    "        current_profit_loss.append(current_price-value)\n",
    "        \n",
    "        percentage = ((current_price-value)/value)*100\n",
    "        perc.append(percentage)\n",
    "        \n",
    "        sum_of_shares.append((coin_transactions.iloc[:,2]).sum())\n",
    "#         print(coin)\n",
    "        \n",
    "    coin_table = pd.DataFrame({\"Coin\":coins,\"Shares_Bought\":sum_of_shares,\"Current_Inv\":values, \"Profit/Loss\":current_profit_loss, \"Percentage\": perc})\n",
    "    write_excel(loc,'Input',coin_table)\n",
    "    print(\"Table updated\")\n",
    "    \n",
    "    \n",
    "def make_transaction(coin: str, number_shares: float):\n",
    "    loc = \"investing.xlsx\"\n",
    "    wb = load_workbook(filename=loc)\n",
    "    ws = wb[coin]\n",
    "    newRowLocation = ws.max_row +1\n",
    "    ws.cell(column=1,row=newRowLocation, value=datetime.now())\n",
    "    ws.cell(column=2,row=newRowLocation, value=get_price(coin))\n",
    "    ws.cell(column=3,row=newRowLocation, value=number_shares)\n",
    "    wb.save(filename=loc)\n",
    "    wb.close()\n"
   ]
  },
  {
   "cell_type": "code",
   "execution_count": 23,
   "id": "ed01ec22",
   "metadata": {},
   "outputs": [
    {
     "name": "stdout",
     "output_type": "stream",
     "text": [
      "Maximum rows before removing: 1\n",
      "Maximum rows after removing: 1\n",
      "Maximum rows before removing: 1\n",
      "Maximum rows after removing: 1\n",
      "Maximum rows before removing: 1\n",
      "Maximum rows after removing: 1\n",
      "Maximum rows before removing: 12\n",
      "Maximum rows after removing: 1\n"
     ]
    }
   ],
   "source": [
    "# enter your file path\n",
    "path = 'investing.xlsx'\n",
    "for sheet in ('bitcoin','shiba-inu','polygon','ethereum'):\n",
    "    book=openpyxl.load_workbook(path)\n",
    "    sheet = book[sheet]\n",
    "    print(\"Maximum rows before removing:\", sheet.max_row)\n",
    "    delete(sheet)\n",
    "    print(\"Maximum rows after removing:\", sheet.max_row)\n",
    "    path = 'investing.xlsx'\n",
    "    book.save(path)"
   ]
  },
  {
   "cell_type": "code",
   "execution_count": 32,
   "id": "c94249a5",
   "metadata": {},
   "outputs": [
    {
     "name": "stdout",
     "output_type": "stream",
     "text": [
      "Table updated\n"
     ]
    }
   ],
   "source": [
    "input_data = pd.read_excel(\"investing.xlsx\",sheet_name = \"Input\")\n",
    "coins = input_data.Coin.to_list()\n",
    "for coin in coins:\n",
    "    make_transaction(coin,randint(-1, 10))\n",
    "\n",
    "update_main_table(\"investing.xlsx\")"
   ]
  },
  {
   "cell_type": "code",
   "execution_count": 4,
   "id": "21f89b01",
   "metadata": {},
   "outputs": [
    {
     "name": "stdout",
     "output_type": "stream",
     "text": [
      "\n",
      "{'0': 'bitcoin', '1': 'ethereum', '2': 'shiba-inu', '3': 'polygon'}\n",
      "0\n",
      "\n",
      "Current price 36478.8\n",
      "\n",
      "Enter amount: 0.9\n",
      "  2022-05-01 23:14:09.794000  37973.34     2\n",
      "0    2022-05-03 16:13:56.444  38531.43   3.0\n",
      "1    2022-05-03 16:14:01.155  38531.43   4.0\n",
      "2    2022-05-03 16:14:05.319  38531.43  10.0\n",
      "3    2022-05-03 16:14:08.244  38531.43   3.0\n",
      "4    2022-05-03 16:14:10.833  38531.43   2.0\n",
      "5    2022-05-03 16:14:13.433  38531.43   5.0\n",
      "6    2022-05-03 16:14:15.908  38531.43   9.0\n",
      "7    2022-05-03 16:14:19.555  38531.43   4.0\n",
      "8    2022-05-03 16:14:21.984  38531.43   6.0\n",
      "9    2022-05-06 16:45:48.324  36478.80   0.9\n"
     ]
    }
   ],
   "source": [
    "input_data = pd.read_excel(\"investing.xlsx\",sheet_name = \"Input\")\n",
    "coins = input_data.Coin.to_list()\n",
    "dictionary_coins = {str(k): v for k,v in enumerate(coins)}\n",
    "choice = input('\\n'+str(dictionary_coins)+'\\n')\n",
    "print(f\"\\nCurrent price {get_price(dictionary_coins[choice])}\")\n",
    "share = float(input(\"\\nEnter amount: \")) \n",
    "make_transaction(dictionary_coins[choice],share)\n",
    "\n",
    "data = pd.read_excel(\"investing.xlsx\",sheet_name = dictionary_coins[choice])\n",
    "print(data)\n",
    "\n"
   ]
  },
  {
   "cell_type": "code",
   "execution_count": 5,
   "id": "7db357bb",
   "metadata": {},
   "outputs": [
    {
     "name": "stdout",
     "output_type": "stream",
     "text": [
      "Table updated\n",
      "        Coin  Shares_Bought   Current_Inv   Profit/Loss  Percentage\n",
      "0    bitcoin           46.9  1.805277e+06 -94420.980000   -5.230277\n",
      "1   ethereum           44.0  1.251426e+05  -4212.120000   -3.365856\n",
      "2  shiba-inu           24.0  5.018400e-04     -0.000016   -3.252033\n",
      "3    polygon           28.0  3.080000e+01     -0.840000   -2.727273\n"
     ]
    }
   ],
   "source": [
    "update_main_table(\"investing.xlsx\")\n",
    "data = pd.read_excel(\"investing.xlsx\",sheet_name = \"Input\")\n",
    "print(data)"
   ]
  },
  {
   "cell_type": "code",
   "execution_count": null,
   "id": "212bad48",
   "metadata": {},
   "outputs": [],
   "source": []
  }
 ],
 "metadata": {
  "kernelspec": {
   "display_name": "Python 3 (ipykernel)",
   "language": "python",
   "name": "python3"
  },
  "language_info": {
   "codemirror_mode": {
    "name": "ipython",
    "version": 3
   },
   "file_extension": ".py",
   "mimetype": "text/x-python",
   "name": "python",
   "nbconvert_exporter": "python",
   "pygments_lexer": "ipython3",
   "version": "3.7.9"
  }
 },
 "nbformat": 4,
 "nbformat_minor": 5
}
